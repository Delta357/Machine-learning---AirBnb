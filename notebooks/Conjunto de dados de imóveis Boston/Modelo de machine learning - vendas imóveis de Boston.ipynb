{
 "cells": [
  {
   "cell_type": "markdown",
   "metadata": {},
   "source": [
    "# Modelo machine learning - Previsão de vendas de imóveis de Boston"
   ]
  },
  {
   "cell_type": "markdown",
   "metadata": {},
   "source": [
    "**Descrição**\n",
    "\n",
    "**Refere-se a valores habitacionais nos subúrbios de Boston**\n",
    "\n",
    "\n",
    "1 - Número de instâncias: 506\n",
    "\n",
    "2 - Número de atributos: 13 atributos contínuos (incluindo o atributo \"classe\"\n",
    "\"MEDV\"), 1 atributo de valor binário.\n",
    "\n",
    "\n",
    "3 - Informações sobre o atributo:\n",
    "\n",
    "\n",
    "4 - ZN Taxa de crime per capita de CRIM por cidade\n",
    "\n",
    "\n",
    "5 - INDUS Proporção de terrenos residenciais zoneados para lotes com mais de 25.000 pés quadrados.\n",
    "\n",
    "\n",
    "6 - CHAS Proporção da INDUS de acres de negócios não varejistas por cidade variável dummy CHAS Charles River (= 1 se a área limita o rio; 0 caso contrário)\n",
    "\n",
    "\n",
    "7 - NOX Concentração de óxidos nítricos NOX (partes por 10 milhões)\n",
    "\n",
    "\n",
    "8 - RM Número médio de quartos por habitação RM\n",
    "\n",
    "\n",
    "9 - AGE Proporção de AGE de unidades ocupadas pelo proprietário construídas antes de 1940\n",
    "\n",
    "\n",
    "10 - DIS Distâncias ponderadas DIS até cinco centros de empregos de Boston.\n",
    "\n",
    "\n",
    "11 - RAD Índice RAD de acessibilidade a rodovias radiais\n",
    "\n",
    "\n",
    "12 - TAX Taxa de imposto sobre a propriedade de valor total por $ 10.000\n",
    "\n",
    "\n",
    "13 - PTRATIO (PTRATIO Proporção aluno-professor de PTRATIO por cidade\n",
    "\n",
    "\n",
    "14 - B 1000 (Bk - 0,63) ^ 2, onde Bk é a proporção de negros por cidade\n",
    "\n",
    "\n",
    "15 - LSTAT % status inferior da população\n",
    "\n",
    "\n",
    "16 - MEDV Valor médio de casas ocupadas pelo proprietário em US $ 1.000\n",
    "\n",
    "\n",
    "17 - Valores de atributo ausentes: Nenhum."
   ]
  },
  {
   "cell_type": "code",
   "execution_count": null,
   "metadata": {},
   "outputs": [],
   "source": [
    "import pandas as pd\n",
    "import numpy as np\n",
    "import seaborn as sns\n",
    "%matplotlib inline\n",
    "import matplotlib.pyplot as plt\n",
    "import plotly.express as px\n",
    "import plotly.graph_objs as go\n",
    "#py.init_notebook_mode(connected=True)"
   ]
  },
  {
   "cell_type": "code",
   "execution_count": null,
   "metadata": {},
   "outputs": [],
   "source": [
    "sns.set_palette(\"Accent\")\n",
    "sns.set_style('darkgrid')"
   ]
  },
  {
   "cell_type": "code",
   "execution_count": null,
   "metadata": {},
   "outputs": [],
   "source": [
    "df = pd.read_csv(\"data.csv\")\n",
    "df.head()"
   ]
  },
  {
   "cell_type": "code",
   "execution_count": null,
   "metadata": {},
   "outputs": [],
   "source": [
    "df.tail()"
   ]
  },
  {
   "cell_type": "code",
   "execution_count": null,
   "metadata": {},
   "outputs": [],
   "source": [
    "df.shape"
   ]
  },
  {
   "cell_type": "code",
   "execution_count": null,
   "metadata": {},
   "outputs": [],
   "source": [
    "df.info()"
   ]
  },
  {
   "cell_type": "code",
   "execution_count": null,
   "metadata": {},
   "outputs": [],
   "source": [
    "df[\"AGE\"].value_counts()"
   ]
  },
  {
   "cell_type": "code",
   "execution_count": null,
   "metadata": {},
   "outputs": [],
   "source": [
    "df.describe()"
   ]
  },
  {
   "cell_type": "code",
   "execution_count": null,
   "metadata": {},
   "outputs": [],
   "source": [
    "df.corr()"
   ]
  },
  {
   "cell_type": "code",
   "execution_count": null,
   "metadata": {},
   "outputs": [],
   "source": [
    "df.describe().round(2)"
   ]
  },
  {
   "cell_type": "code",
   "execution_count": null,
   "metadata": {},
   "outputs": [],
   "source": [
    "df.corr().round(4)"
   ]
  },
  {
   "cell_type": "markdown",
   "metadata": {},
   "source": [
    "# Análise exploratória de dados"
   ]
  },
  {
   "cell_type": "code",
   "execution_count": null,
   "metadata": {},
   "outputs": [],
   "source": [
    "ax = sns.relplot(x=\"AGE\", y=\"MEDV\", data=df)"
   ]
  },
  {
   "cell_type": "code",
   "execution_count": null,
   "metadata": {},
   "outputs": [],
   "source": [
    "fig, ax = plt.subplots(figsize=(20, 6))\n",
    "\n",
    "ax.set_title('Preço dos imoveis', fontsize=20)\n",
    "ax.set_ylabel('Valor', fontsize=16)\n",
    "ax.set_xlabel('Preço', fontsize=16)\n",
    "ax = df['AGE'].plot(fontsize=14)"
   ]
  },
  {
   "cell_type": "code",
   "execution_count": null,
   "metadata": {},
   "outputs": [],
   "source": [
    "plt.figure(figsize = (8, 6))\n",
    "ax = sns.distplot(df[\"AGE\"])"
   ]
  },
  {
   "cell_type": "code",
   "execution_count": null,
   "metadata": {},
   "outputs": [],
   "source": [
    "plt.figure(figsize = (8, 6))\n",
    "ax = sns.distplot(df[\"INDUS\"])"
   ]
  },
  {
   "cell_type": "code",
   "execution_count": null,
   "metadata": {},
   "outputs": [],
   "source": [
    "ax = sns.boxplot(data=df[\"AGE\"], orient = \"h\", width=0.3)\n",
    "ax.figure.set_size_inches(20, 8)\n",
    "ax.set_title('Preço dos Imóveis', fontsize=20)\n",
    "ax.set_xlabel('Dolar', fontsize=16)\n",
    "ax"
   ]
  },
  {
   "cell_type": "code",
   "execution_count": null,
   "metadata": {},
   "outputs": [],
   "source": [
    "plt.figure(figsize = (50,40))\n",
    "sns.set(font_scale = 2.3)\n",
    "\n",
    "ax = sns.barplot(x='AGE', y='MEDV', data= df,\n",
    "                palette = 'plasma')\n",
    "\n",
    "ax.set_title('Média Preço por Distrito', fontsize = 45)"
   ]
  },
  {
   "cell_type": "code",
   "execution_count": null,
   "metadata": {},
   "outputs": [],
   "source": [
    "ax = sns.distplot(df[\"MEDV\"])\n",
    "ax.figure.set_size_inches(12, 6)\n",
    "ax.set_title('Preço dos imóveis', fontsize=20)\n",
    "ax.set_ylabel('Imóvel total', fontsize=16)\n",
    "ax"
   ]
  },
  {
   "cell_type": "code",
   "execution_count": null,
   "metadata": {},
   "outputs": [],
   "source": [
    "ax = sns.distplot(df[\"TAX\"])\n",
    "ax.figure.set_size_inches(12, 6)\n",
    "ax.set_title('Preço dos imóveis', fontsize=20)\n",
    "ax.set_ylabel('Imóvel total', fontsize=16)\n",
    "ax"
   ]
  },
  {
   "cell_type": "code",
   "execution_count": null,
   "metadata": {},
   "outputs": [],
   "source": [
    "plt.figure(figsize=(18, 8))\n",
    "\n",
    "ax = sns.scatterplot(x=\"AGE\", y=\"MEDV\", data=df)\n",
    "ax.set_title('Condomínio x Preco', fontsize = 22)\n",
    "ax.set_ylabel('Condomínio', fontsize = 16)\n",
    "ax.set_xlabel('Preco', fontsize = 16)"
   ]
  },
  {
   "cell_type": "code",
   "execution_count": null,
   "metadata": {},
   "outputs": [],
   "source": [
    "plt.figure(figsize = (50,40))\n",
    "sns.set(font_scale = 2.3)\n",
    "\n",
    "ax = sns.relplot(x=\"AGE\", y=\"MEDV\", data=df, hue = \"RAD\", col = \"RAD\")"
   ]
  },
  {
   "cell_type": "code",
   "execution_count": null,
   "metadata": {},
   "outputs": [],
   "source": [
    "plt.figure(figsize = (50, 40))\n",
    "\n",
    "corr = df.corr()\n",
    "sns.heatmap(corr,  cmap = 'plasma', annot= True);"
   ]
  },
  {
   "cell_type": "code",
   "execution_count": null,
   "metadata": {},
   "outputs": [],
   "source": [
    "ax = sns.pairplot(df)"
   ]
  },
  {
   "cell_type": "markdown",
   "metadata": {},
   "source": [
    "# Treino e Teste"
   ]
  },
  {
   "cell_type": "code",
   "execution_count": null,
   "metadata": {},
   "outputs": [],
   "source": [
    "df = df.drop([\"CRIM\",\"NOX\",\"PTRATIO\",\"B\",\"LSTAT\",\"MEDV\",\"AGE\"], axis=1)"
   ]
  },
  {
   "cell_type": "code",
   "execution_count": null,
   "metadata": {},
   "outputs": [],
   "source": [
    "df.nunique()"
   ]
  },
  {
   "cell_type": "code",
   "execution_count": null,
   "metadata": {},
   "outputs": [],
   "source": [
    "df.isnull().sum()"
   ]
  },
  {
   "cell_type": "code",
   "execution_count": null,
   "metadata": {},
   "outputs": [],
   "source": [
    "df = df.fillna(df.mean())\n",
    "df"
   ]
  },
  {
   "cell_type": "code",
   "execution_count": null,
   "metadata": {},
   "outputs": [],
   "source": [
    "x = df.drop(\"TAX\", axis = 1)\n",
    "y = df[\"TAX\"]"
   ]
  },
  {
   "cell_type": "code",
   "execution_count": null,
   "metadata": {},
   "outputs": [],
   "source": [
    "x.shape"
   ]
  },
  {
   "cell_type": "code",
   "execution_count": null,
   "metadata": {},
   "outputs": [],
   "source": [
    "y.shape"
   ]
  },
  {
   "cell_type": "code",
   "execution_count": null,
   "metadata": {},
   "outputs": [],
   "source": [
    "from sklearn.model_selection import train_test_split\n",
    "\n",
    "X_train, X_test, y_train, y_test = train_test_split(x, y, test_size =0.3, random_state = 200)"
   ]
  },
  {
   "cell_type": "code",
   "execution_count": null,
   "metadata": {},
   "outputs": [],
   "source": [
    "X_train.shape"
   ]
  },
  {
   "cell_type": "code",
   "execution_count": null,
   "metadata": {},
   "outputs": [],
   "source": [
    "y_train.shape"
   ]
  },
  {
   "cell_type": "code",
   "execution_count": null,
   "metadata": {},
   "outputs": [],
   "source": [
    "X_test.shape"
   ]
  },
  {
   "cell_type": "code",
   "execution_count": null,
   "metadata": {},
   "outputs": [],
   "source": [
    "y_test.shape"
   ]
  },
  {
   "cell_type": "markdown",
   "metadata": {},
   "source": [
    "# Modelo de regressão linear"
   ]
  },
  {
   "cell_type": "code",
   "execution_count": null,
   "metadata": {},
   "outputs": [],
   "source": [
    "from sklearn.linear_model import LinearRegression\n",
    "from sklearn import metrics\n",
    "\n",
    "model = LinearRegression()\n",
    "model.fit(X_train, y_train)\n",
    "pred = model.predict(X_test)\n",
    "pred"
   ]
  },
  {
   "cell_type": "code",
   "execution_count": null,
   "metadata": {},
   "outputs": [],
   "source": [
    "model.score(X_train, y_train)"
   ]
  },
  {
   "cell_type": "code",
   "execution_count": null,
   "metadata": {},
   "outputs": [],
   "source": [
    "model.intercept_"
   ]
  },
  {
   "cell_type": "code",
   "execution_count": null,
   "metadata": {},
   "outputs": [],
   "source": [
    "model.coef_"
   ]
  },
  {
   "cell_type": "code",
   "execution_count": null,
   "metadata": {},
   "outputs": [],
   "source": [
    "model.coef_ * 27.74456356 + model.intercept_"
   ]
  },
  {
   "cell_type": "code",
   "execution_count": null,
   "metadata": {},
   "outputs": [],
   "source": [
    "# Grafico\n",
    "\n",
    "pred = model.predict(X_train)\n",
    "pred"
   ]
  },
  {
   "cell_type": "code",
   "execution_count": null,
   "metadata": {},
   "outputs": [],
   "source": [
    "pred2 = y_train - pred\n",
    "pred2"
   ]
  },
  {
   "cell_type": "code",
   "execution_count": null,
   "metadata": {},
   "outputs": [],
   "source": [
    "plt.figure(figsize=(18, 8))\n",
    "plt.scatter(pred, y_train)\n",
    "plt.plot(pred, model.predict(X_train), color = \"red\")\n",
    "plt.title(\"Grafico de regressão linear\", fontsize = 20)\n",
    "plt.xlabel(\"Valor\")\n",
    "plt.ylabel(\"Totoal do imóvel\")\n",
    "plt.legend([\"Valor\", \"Imóvel\"])"
   ]
  },
  {
   "cell_type": "code",
   "execution_count": null,
   "metadata": {},
   "outputs": [],
   "source": [
    "ax = sns.scatterplot(x=pred, y=pred2**2, s=150)\n",
    "ax.figure.set_size_inches(20, 8)\n",
    "ax.set_title('Resíduos X Previsão', fontsize=18)\n",
    "ax.set_xlabel('Valor do imóvel - Previsão', fontsize=14)\n",
    "ax.set_ylabel('Resíduos²', fontsize=14)\n",
    "ax"
   ]
  },
  {
   "cell_type": "code",
   "execution_count": null,
   "metadata": {},
   "outputs": [],
   "source": [
    "ax = sns.distplot(pred)\n",
    "ax.figure.set_size_inches(20, 8)\n",
    "ax.set_title('Distribuição de Frequências dos Resíduos', fontsize=18)\n",
    "ax.set_xlabel('Imóvel', fontsize=14)\n",
    "ax"
   ]
  },
  {
   "cell_type": "code",
   "execution_count": null,
   "metadata": {},
   "outputs": [],
   "source": [
    "import statsmodels.api as sm\n",
    "\n",
    "modelo = sm.add_constant(X_train)\n",
    "modelo_statsmodels = sm.OLS(y_train, modelo, hasconst = True).fit()\n",
    "print(modelo_statsmodels.summary())"
   ]
  },
  {
   "cell_type": "markdown",
   "metadata": {},
   "source": [
    "# Previsão do imovel"
   ]
  },
  {
   "cell_type": "code",
   "execution_count": null,
   "metadata": {},
   "outputs": [],
   "source": [
    "X_test[0:1]"
   ]
  },
  {
   "cell_type": "code",
   "execution_count": null,
   "metadata": {},
   "outputs": [],
   "source": [
    "a1 = X_test[0: 1]\n",
    "a1"
   ]
  },
  {
   "cell_type": "code",
   "execution_count": null,
   "metadata": {},
   "outputs": [],
   "source": [
    "pred = model.predict(a1)[0]\n",
    "pred"
   ]
  },
  {
   "cell_type": "markdown",
   "metadata": {},
   "source": [
    "# Salvando o modelo"
   ]
  },
  {
   "cell_type": "code",
   "execution_count": null,
   "metadata": {},
   "outputs": [],
   "source": [
    "import pickle\n",
    "\n",
    "saida = open(\"modelo_previsao_imóvel_Boston\", \"wb\")\n",
    "pickle.dump(modelo, saida)\n",
    "saida.close()"
   ]
  },
  {
   "cell_type": "code",
   "execution_count": null,
   "metadata": {},
   "outputs": [],
   "source": []
  },
  {
   "cell_type": "code",
   "execution_count": null,
   "metadata": {},
   "outputs": [],
   "source": []
  }
 ],
 "metadata": {
  "kernelspec": {
   "display_name": "Python 3",
   "language": "python",
   "name": "python3"
  },
  "language_info": {
   "codemirror_mode": {
    "name": "ipython",
    "version": 3
   },
   "file_extension": ".py",
   "mimetype": "text/x-python",
   "name": "python",
   "nbconvert_exporter": "python",
   "pygments_lexer": "ipython3",
   "version": "3.7.4"
  }
 },
 "nbformat": 4,
 "nbformat_minor": 2
}
