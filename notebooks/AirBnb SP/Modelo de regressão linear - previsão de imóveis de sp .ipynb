{
 "cells": [
  {
   "cell_type": "markdown",
   "metadata": {},
   "source": [
    "# Modelo de machine learning - Previsão de imóveis SP"
   ]
  },
  {
   "cell_type": "markdown",
   "metadata": {},
   "source": [
    "**Regressão linear**"
   ]
  },
  {
   "cell_type": "code",
   "execution_count": null,
   "metadata": {},
   "outputs": [],
   "source": [
    "import pandas as pd\n",
    "import numpy as np\n",
    "import seaborn as sns\n",
    "%matplotlib inline\n",
    "import matplotlib.pyplot as plt\n",
    "import plotly.express as px\n",
    "import plotly.graph_objs as go\n",
    "#py.init_notebook_mode(connected=True)"
   ]
  },
  {
   "cell_type": "code",
   "execution_count": null,
   "metadata": {},
   "outputs": [],
   "source": [
    "sns.set_palette(\"Accent\")\n",
    "sns.set_style(\"darkgrid\")"
   ]
  },
  {
   "cell_type": "code",
   "execution_count": null,
   "metadata": {},
   "outputs": [],
   "source": [
    "df = pd.read_csv(\"sao-paulo-properties-april-2019.csv\")\n",
    "df"
   ]
  },
  {
   "cell_type": "code",
   "execution_count": null,
   "metadata": {},
   "outputs": [],
   "source": [
    "df.tail()"
   ]
  },
  {
   "cell_type": "code",
   "execution_count": null,
   "metadata": {},
   "outputs": [],
   "source": [
    "df.shape"
   ]
  },
  {
   "cell_type": "code",
   "execution_count": null,
   "metadata": {},
   "outputs": [],
   "source": [
    "df.info()"
   ]
  },
  {
   "cell_type": "code",
   "execution_count": null,
   "metadata": {},
   "outputs": [],
   "source": [
    "df.columns = [\"Preco\",\n",
    "             \"Condomínio\",\n",
    "             \"Tamanho\",\n",
    "             \"Quartos\",\n",
    "             \"Sanitários\",\n",
    "             \"Suites\",\n",
    "             \"Estacionamento\",\n",
    "             \"Elevador\",\n",
    "             \"Mobiliado\",\n",
    "             \"Piscina\",\n",
    "             \"Novo\",\n",
    "             \"Distrito\",\n",
    "             \"Negociação\",\n",
    "             \"Propriedade\",\n",
    "             \"Latitude\",\n",
    "             \"Longitude\"]\n",
    "\n",
    "df.head()"
   ]
  },
  {
   "cell_type": "code",
   "execution_count": null,
   "metadata": {},
   "outputs": [],
   "source": [
    "df[\"Negociação\"].value_counts()"
   ]
  },
  {
   "cell_type": "code",
   "execution_count": null,
   "metadata": {},
   "outputs": [],
   "source": [
    "df.head()"
   ]
  },
  {
   "cell_type": "code",
   "execution_count": null,
   "metadata": {},
   "outputs": [],
   "source": [
    "df.tail()"
   ]
  },
  {
   "cell_type": "markdown",
   "metadata": {},
   "source": [
    "# Estátistica"
   ]
  },
  {
   "cell_type": "code",
   "execution_count": null,
   "metadata": {},
   "outputs": [],
   "source": [
    "df.describe()"
   ]
  },
  {
   "cell_type": "code",
   "execution_count": null,
   "metadata": {},
   "outputs": [],
   "source": [
    "df.describe().round(2)"
   ]
  },
  {
   "cell_type": "code",
   "execution_count": null,
   "metadata": {},
   "outputs": [],
   "source": [
    "df.corr().round(4)"
   ]
  },
  {
   "cell_type": "markdown",
   "metadata": {},
   "source": [
    "# Análise exploratória de dados"
   ]
  },
  {
   "cell_type": "code",
   "execution_count": null,
   "metadata": {},
   "outputs": [],
   "source": [
    "plt.figure(figsize = (8, 6))\n",
    "ax = sns.countplot(x=\"Negociação\", data=df)"
   ]
  },
  {
   "cell_type": "code",
   "execution_count": null,
   "metadata": {},
   "outputs": [],
   "source": [
    "fig, ax = plt.subplots(figsize=(20, 6))\n",
    "\n",
    "ax.set_title('Preço dos imoveis', fontsize=20)\n",
    "ax.set_ylabel('Valor', fontsize=16)\n",
    "ax.set_xlabel('Preço', fontsize=16)\n",
    "ax = df['Preco'].plot(fontsize=14)"
   ]
  },
  {
   "cell_type": "code",
   "execution_count": null,
   "metadata": {},
   "outputs": [],
   "source": [
    "ax = sns.boxplot(data=df[\"Preco\"], orient = \"h\", width=0.3)\n",
    "ax.figure.set_size_inches(20, 8)\n",
    "ax.set_title('Preço dos Imóveis', fontsize=20)\n",
    "ax.set_xlabel('Reais', fontsize=16)\n",
    "ax"
   ]
  },
  {
   "cell_type": "code",
   "execution_count": null,
   "metadata": {},
   "outputs": [],
   "source": [
    "plt.figure(figsize = (40,40))\n",
    "\n",
    "ax = sns.barplot(x='Preco', y='Distrito', data= df,\n",
    "                palette = 'plasma')\n",
    "\n",
    "ax.set_title('Média Preço por Distrito', fontsize = 45)"
   ]
  },
  {
   "cell_type": "code",
   "execution_count": null,
   "metadata": {},
   "outputs": [],
   "source": [
    "ax = sns.distplot(df[\"Preco\"])\n",
    "ax.figure.set_size_inches(12, 6)\n",
    "ax.set_title('Preço dos imóveis')\n",
    "ax.set_ylabel('Imóvel total')\n",
    "ax"
   ]
  },
  {
   "cell_type": "code",
   "execution_count": null,
   "metadata": {},
   "outputs": [],
   "source": [
    "plt.figure(figsize = (18, 8))\n",
    "\n",
    "ax = sns.distplot(df[\"Condomínio\"])\n",
    "ax.set_title('Total do condomínio e valor')\n",
    "ax.set_ylabel('Valor do condomínio ')\n",
    "ax.set_xlabel(\"Preço\")\n",
    "ax"
   ]
  },
  {
   "cell_type": "code",
   "execution_count": null,
   "metadata": {},
   "outputs": [],
   "source": [
    "plt.figure(figsize = (18, 8))\n",
    "\n",
    "ax = sns.distplot(df[\"Tamanho\"])\n",
    "ax.set_title('Tamanho dos imóvel em (m2)')\n",
    "ax.set_ylabel('Tamanho em m2')\n",
    "ax.set_xlabel(\"Valor R$\")\n",
    "ax"
   ]
  },
  {
   "cell_type": "code",
   "execution_count": null,
   "metadata": {},
   "outputs": [],
   "source": [
    "plt.figure(figsize = (18, 8))\n",
    "\n",
    "ax = sns.distplot(df[\"Novo\"])\n",
    "ax.set_title('Novos empredimento em SP')\n",
    "ax.set_ylabel('Tamanho em m2')\n",
    "ax.set_xlabel(\"Valor R$\")\n",
    "ax"
   ]
  },
  {
   "cell_type": "code",
   "execution_count": null,
   "metadata": {},
   "outputs": [],
   "source": [
    "plt.figure(figsize = (18, 8))\n",
    "\n",
    "ax = sns.distplot(df[\"Suites\"])\n",
    "ax.set_title('Total de suites')\n",
    "ax.set_ylabel('Preço')\n",
    "ax.set_xlabel(\"Valor R$\")\n",
    "ax"
   ]
  },
  {
   "cell_type": "code",
   "execution_count": null,
   "metadata": {},
   "outputs": [],
   "source": [
    "plt.figure(figsize=(18, 8))\n",
    "\n",
    "ax = sns.scatterplot(x=\"Preco\", y=\"Condomínio\", hue = 'Negociação', data=df)\n",
    "ax.set_title('Condomínio x Preco')\n",
    "ax.set_ylabel('Condomínio')\n",
    "ax.set_xlabel('Preco')"
   ]
  },
  {
   "cell_type": "code",
   "execution_count": null,
   "metadata": {},
   "outputs": [],
   "source": [
    "plt.figure(figsize=(18, 8))\n",
    "sns.jointplot(x=\"Condomínio\", y=\"Preco\", data=df, kind='reg')"
   ]
  },
  {
   "cell_type": "code",
   "execution_count": null,
   "metadata": {},
   "outputs": [],
   "source": [
    "sns.relplot(x=\"Condomínio\", y=\"Preco\", data=df, hue = \"Negociação\", col = \"Negociação\")"
   ]
  },
  {
   "cell_type": "code",
   "execution_count": null,
   "metadata": {},
   "outputs": [],
   "source": [
    "plt.figure(figsize = (30, 20))\n",
    "\n",
    "corr = df.corr()\n",
    "sns.heatmap(corr,  cmap = 'plasma', annot= True);"
   ]
  },
  {
   "cell_type": "code",
   "execution_count": null,
   "metadata": {},
   "outputs": [],
   "source": [
    "apt = df[[\"Latitude\", \"Longitude\", \"Preco\"]]\n",
    "\n",
    "fig = px.scatter_mapbox(apt,\n",
    "                       lat = \"Latitude\",\n",
    "                       lon = \"Longitude\",\n",
    "                       size = \"Preco\",\n",
    "                       color_continuous_scale = px.colors.cyclical.IceFire, \n",
    "                       size_max = 15, \n",
    "                       zoom = 10)\n",
    "\n",
    "fig.update_layout(\n",
    "        title = 'Mapa região de apartamentos Nova York',\n",
    ")\n",
    "fig.update_layout(mapbox_style=\"open-street-map\")\n",
    "fig.update_layout(margin={\"r\":0,\"t\":0,\"l\":0,\"b\":0})\n",
    "fig.show()"
   ]
  },
  {
   "cell_type": "markdown",
   "metadata": {},
   "source": [
    "# Treino e teste"
   ]
  },
  {
   "cell_type": "code",
   "execution_count": null,
   "metadata": {},
   "outputs": [],
   "source": [
    "x = df[[\"Condomínio\", \"Tamanho\", \"Quartos\", \"Sanitários\", \"Suites\", \"Estacionamento\", \"Elevador\", \"Mobiliado\", \"Piscina\", \"Novo\"]]\n",
    "y = df[\"Preco\"]"
   ]
  },
  {
   "cell_type": "code",
   "execution_count": null,
   "metadata": {},
   "outputs": [],
   "source": [
    "from sklearn.model_selection import train_test_split\n",
    "\n",
    "X_train, X_test, y_train, y_test = train_test_split(x, y, test_size=0.3, random_state=2811)"
   ]
  },
  {
   "cell_type": "code",
   "execution_count": null,
   "metadata": {},
   "outputs": [],
   "source": [
    "X_train.shape"
   ]
  },
  {
   "cell_type": "code",
   "execution_count": null,
   "metadata": {},
   "outputs": [],
   "source": [
    "X_test.shape"
   ]
  },
  {
   "cell_type": "markdown",
   "metadata": {},
   "source": [
    "# Modelo de regressão linear"
   ]
  },
  {
   "cell_type": "code",
   "execution_count": null,
   "metadata": {},
   "outputs": [],
   "source": [
    "from sklearn.linear_model import LinearRegression\n",
    "from sklearn import metrics\n",
    "\n",
    "model = LinearRegression()\n",
    "model.fit(X_train, y_train)\n",
    "pred = model.predict(X_test)\n",
    "pred"
   ]
  },
  {
   "cell_type": "code",
   "execution_count": null,
   "metadata": {},
   "outputs": [],
   "source": [
    "model.score(X_train, y_train)"
   ]
  },
  {
   "cell_type": "code",
   "execution_count": null,
   "metadata": {},
   "outputs": [],
   "source": [
    "model.intercept_"
   ]
  },
  {
   "cell_type": "code",
   "execution_count": null,
   "metadata": {},
   "outputs": [],
   "source": [
    "model.coef_"
   ]
  },
  {
   "cell_type": "code",
   "execution_count": null,
   "metadata": {},
   "outputs": [],
   "source": [
    "model.coef_ * 27.74456356 + model.intercept_"
   ]
  },
  {
   "cell_type": "code",
   "execution_count": null,
   "metadata": {},
   "outputs": [],
   "source": [
    "x.columns"
   ]
  },
  {
   "cell_type": "code",
   "execution_count": null,
   "metadata": {},
   "outputs": [],
   "source": [
    "index = [\"Intercepto\", \n",
    "         \"Coeficiente Angular\", \n",
    "         \"Condomínio', 'Tamanho\", \n",
    "         \"Quartos\", \n",
    "         \"Sanitários\", \n",
    "         \"Suites\", \n",
    "         \"Estacionamento\", \n",
    "         \"Elevador\", \n",
    "         \"Mobiliado\", \n",
    "         \"Piscina\", \n",
    "         \"Novo\"]\n",
    "\n",
    "dados = pd.DataFrame(data=np.append(model.intercept_, model.coef_), index = index, columns=['Parâmetros'])\n",
    "dados"
   ]
  },
  {
   "cell_type": "code",
   "execution_count": null,
   "metadata": {},
   "outputs": [],
   "source": [
    "# Grafico\n",
    "\n",
    "pred = model.predict(X_train)\n",
    "pred"
   ]
  },
  {
   "cell_type": "code",
   "execution_count": null,
   "metadata": {},
   "outputs": [],
   "source": [
    "pred2 = y_train - pred\n",
    "pred2"
   ]
  },
  {
   "cell_type": "code",
   "execution_count": null,
   "metadata": {},
   "outputs": [],
   "source": [
    "plt.figure(figsize=(18, 8))\n",
    "plt.scatter(pred, y_train)\n",
    "plt.plot(pred, model.predict(X_train), color = \"red\")\n",
    "plt.title(\"Grafico de regressão linear\", fontsize = 20)\n",
    "plt.xlabel(\"Valor\")\n",
    "plt.ylabel(\"Valor do imóvel\")\n",
    "plt.legend([\"Valor\", \"Imóvel\"])"
   ]
  },
  {
   "cell_type": "code",
   "execution_count": null,
   "metadata": {},
   "outputs": [],
   "source": [
    "ax = sns.scatterplot(x = pred, y = y_train)\n",
    "ax.figure.set_size_inches(20, 8)\n",
    "ax.set_title('Previsão X imóvel', fontsize=18)\n",
    "ax.set_xlabel('Previsão dos imóvel - Previsão', fontsize=14)\n",
    "ax.set_ylabel('Preço dos imóvel - Real', fontsize=14)\n",
    "ax"
   ]
  },
  {
   "cell_type": "code",
   "execution_count": null,
   "metadata": {},
   "outputs": [],
   "source": [
    "ax = sns.scatterplot(x=pred, y=pred2**2, s=150)\n",
    "ax.figure.set_size_inches(20, 8)\n",
    "ax.set_title('Resíduos X Previsão', fontsize=18)\n",
    "ax.set_xlabel('Valor do imóvel - Previsão', fontsize=14)\n",
    "ax.set_ylabel('Resíduos²', fontsize=14)\n",
    "ax"
   ]
  },
  {
   "cell_type": "code",
   "execution_count": null,
   "metadata": {},
   "outputs": [],
   "source": [
    "ax = sns.distplot(pred)\n",
    "ax.figure.set_size_inches(20, 8)\n",
    "ax.set_title('Distribuição de Frequências dos Resíduos', fontsize=18)\n",
    "ax.set_xlabel('Imóvel', fontsize=14)\n",
    "ax"
   ]
  },
  {
   "cell_type": "markdown",
   "metadata": {},
   "source": [
    "# Statsmodels modelo regressão linear"
   ]
  },
  {
   "cell_type": "code",
   "execution_count": null,
   "metadata": {},
   "outputs": [],
   "source": [
    "x = df[[\"Condomínio\", \"Tamanho\", \"Quartos\", \"Sanitários\", \"Suites\", \"Estacionamento\", \"Elevador\", \"Mobiliado\", \"Piscina\", \"Novo\"]]\n",
    "y = df[\"Preco\"]"
   ]
  },
  {
   "cell_type": "code",
   "execution_count": null,
   "metadata": {},
   "outputs": [],
   "source": [
    "X_train, X_test, y_train, y_test = train_test_split(x, y, test_size=0.3, random_state=2811)"
   ]
  },
  {
   "cell_type": "code",
   "execution_count": null,
   "metadata": {},
   "outputs": [],
   "source": [
    "import statsmodels.api as sm\n",
    "\n",
    "modelo = sm.add_constant(X_train)\n",
    "modelo"
   ]
  },
  {
   "cell_type": "code",
   "execution_count": null,
   "metadata": {},
   "outputs": [],
   "source": [
    "modelo_statsmodels = sm.OLS(y_train, modelo, hasconst = True).fit()\n",
    "\n",
    "print(modelo_statsmodels.summary())"
   ]
  },
  {
   "cell_type": "markdown",
   "metadata": {},
   "source": [
    "# Previsão do imovel"
   ]
  },
  {
   "cell_type": "code",
   "execution_count": null,
   "metadata": {},
   "outputs": [],
   "source": [
    "X_test[0:1]"
   ]
  },
  {
   "cell_type": "code",
   "execution_count": null,
   "metadata": {},
   "outputs": [],
   "source": [
    "a1 = X_test[0: 1]\n",
    "a1"
   ]
  },
  {
   "cell_type": "code",
   "execution_count": null,
   "metadata": {},
   "outputs": [],
   "source": [
    "pred = model.predict(a1)[0]\n",
    "pred"
   ]
  },
  {
   "cell_type": "code",
   "execution_count": null,
   "metadata": {},
   "outputs": [],
   "source": [
    "# Simulação\n",
    "\n",
    "Condomínio = 450\n",
    "\n",
    "Tamanho = 50\n",
    "\n",
    "Quartos = 4\n",
    "\n",
    "Sanitários = 1\n",
    "\n",
    "Suites = 2\n",
    "\n",
    "Estacionamento = 2\n",
    "\n",
    "Elevador = 1\n",
    "\n",
    "Mobiliado = 0\n",
    "\n",
    "Piscina = 1\n",
    "\n",
    "Novo = 1\n",
    "\n",
    "a1 = [[Condomínio, Tamanho, Quartos, Sanitários, Suites, Estacionamento, Elevador, Mobiliado, Piscina, Novo]]\n",
    "print(\"{0:.2f} Valor do imóvel\". format(model.predict(a1)[0]))"
   ]
  },
  {
   "cell_type": "markdown",
   "metadata": {},
   "source": [
    "# Salvando o modelo de regressão linear"
   ]
  },
  {
   "cell_type": "code",
   "execution_count": null,
   "metadata": {},
   "outputs": [],
   "source": [
    "import pickle\n",
    "\n",
    "saida = open(\"modelo_previsao_imóvel\", \"wb\")\n",
    "pickle.dump(modelo, saida)\n",
    "saida.close()"
   ]
  },
  {
   "cell_type": "code",
   "execution_count": null,
   "metadata": {},
   "outputs": [],
   "source": []
  },
  {
   "cell_type": "code",
   "execution_count": null,
   "metadata": {},
   "outputs": [],
   "source": []
  },
  {
   "cell_type": "code",
   "execution_count": null,
   "metadata": {},
   "outputs": [],
   "source": []
  }
 ],
 "metadata": {
  "kernelspec": {
   "display_name": "Python 3",
   "language": "python",
   "name": "python3"
  },
  "language_info": {
   "codemirror_mode": {
    "name": "ipython",
    "version": 3
   },
   "file_extension": ".py",
   "mimetype": "text/x-python",
   "name": "python",
   "nbconvert_exporter": "python",
   "pygments_lexer": "ipython3",
   "version": "3.7.4"
  }
 },
 "nbformat": 4,
 "nbformat_minor": 2
}
